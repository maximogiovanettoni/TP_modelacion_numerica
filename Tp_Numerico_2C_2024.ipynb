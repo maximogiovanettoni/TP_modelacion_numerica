{
  "nbformat": 4,
  "nbformat_minor": 0,
  "metadata": {
    "colab": {
      "provenance": [],
      "include_colab_link": true
    },
    "kernelspec": {
      "name": "python3",
      "display_name": "Python 3"
    },
    "language_info": {
      "name": "python"
    }
  },
  "cells": [
    {
      "cell_type": "markdown",
      "metadata": {
        "id": "view-in-github",
        "colab_type": "text"
      },
      "source": [
        "<a href=\"https://colab.research.google.com/github/maximogiovanettoni/TP_modelacion_numerica/blob/main/Tp_Numerico_2C_2024.ipynb\" target=\"_parent\"><img src=\"https://colab.research.google.com/assets/colab-badge.svg\" alt=\"Open In Colab\"/></a>"
      ]
    },
    {
      "cell_type": "code",
      "execution_count": 3,
      "metadata": {
        "id": "sups6tB2zN2N"
      },
      "outputs": [],
      "source": [
        "import numpy as np\n",
        "import matplotlib.pyplot as plt\n",
        "\n",
        "# Parámetros del problema\n",
        "L = 5          # Longitud de los vehículos (m)\n",
        "d = 10         # Distancia entre vehículos (m)\n",
        "vc = 25        # Velocidad de crucero (m/s)\n",
        "n = 15         # Número de vehículos\n",
        "tau = 0.9      # Retardo (s)\n",
        "k = 1.25       # Factor de perturbación\n",
        "t1 = 0.25      # Tiempo de mínima velocidad (s)\n",
        "C = 9.3750     # Constante C\n",
        "T = 60         # Tiempo total de simulación (s)\n",
        "h = 0.01       # Paso de tiempo\n",
        "\n",
        "# número de pasos de tiempo\n",
        "n_steps = int(T/h)+1\n",
        "t = np.linspace(0, T, n_steps)\n",
        "\n",
        "# Perturbación del primer vehículo (velocidad)\n",
        "def z0_prime(t):\n",
        "    return -k * vc * t * np.exp((-t1-t)/t1)\n",
        "\n",
        "# Posición del primer vehículo (perturbación)\n",
        "def z0(t):\n",
        "    return -k * vc * t1 * np.e * (t1 - np.exp(-t/t1) * (t + t1))\n",
        "\n",
        "# Derivada de z para el vehículo i\n",
        "def z_prime(i, t, z_history):\n",
        "    if t <= i * tau:\n",
        "        return 0\n",
        "\n",
        "    # Obtener el índice correspondiente al tiempo t-tau\n",
        "    delay_idx = int((t-tau)/h)\n",
        "    if delay_idx < 0:\n",
        "        return 0\n",
        "\n",
        "    zi_delayed = z_history[i, delay_idx]\n",
        "    zi_prev_delayed = z_history[i-1, delay_idx]\n",
        "\n",
        "    argument = (zi_delayed - zi_prev_delayed)/(-L-d)\n",
        "    if argument <= 0:\n",
        "        return 0\n",
        "    return C * np.log(argument)\n",
        "\n",
        "# Inicializar arrays para almacenar resultados\n",
        "z = np.zeros((n+1, n_steps))\n",
        "v = np.zeros((n+1, n_steps))\n",
        "\n",
        "# Condiciones iniciales\n",
        "for i in range(n+1):\n",
        "    z[i, 0] = -i * (L + d)\n",
        "\n",
        "# Método de Euler\n",
        "for j in range(1, n_steps):\n",
        "    current_t = t[j]\n",
        "\n",
        "    # Actualizar posición del vehículo 0 (perturbación)\n",
        "    z[0, j] = z0(current_t)\n",
        "\n",
        "    # Actualizar posiciones de los demás vehículos\n",
        "    for i in range(1, n+1):\n",
        "        derivative = z_prime(i, current_t, z)\n",
        "        z[i, j] = z[i, j-1] + h * derivative\n",
        "\n",
        "# Calcular velocidades\n",
        "# Para el vehículo 0 (perturbación)\n",
        "v[0, :] = z0_prime(t) + vc\n",
        "\n",
        "# Para los demás vehículos\n",
        "for i in range(1, n+1):\n",
        "    v[i, 1:] = (z[i, 1:] - z[i, :-1])/h + vc"
      ]
    },
    {
      "cell_type": "code",
      "source": [
        "plt.figure(figsize=(12, 10))\n",
        "\n",
        "# Posiciones\n",
        "plt.subplot(2, 1, 1)\n",
        "for i in range(n+1):\n",
        "    plt.plot(t, z[i, :], label=f'Vehículo {i}')\n",
        "plt.grid(True)\n",
        "plt.xlabel('Tiempo (s)')\n",
        "plt.ylabel('Posición relativa (m)')\n",
        "plt.title('Posiciones relativas de los vehículos')\n",
        "plt.legend()\n",
        "plt.yticks(range(-(n+2)*(L+d), 1, L+d))\n",
        "\n",
        "# Velocidades\n",
        "plt.subplot(2, 1, 2)\n",
        "for i in range(n+1):\n",
        "    plt.plot(t, v[i, :], label=f'Vehículo {i}')\n",
        "plt.grid(True)\n",
        "plt.xlabel('Tiempo (s)')\n",
        "plt.ylabel('Velocidad (m/s)')\n",
        "plt.title('Velocidades de los vehículos')\n",
        "\n",
        "plt.legend()\n",
        "\n",
        "plt.tight_layout()\n",
        "plt.show()"
      ],
      "metadata": {
        "colab": {
          "base_uri": "https://localhost:8080/",
          "height": 211
        },
        "id": "AjC4VKJgz2B2",
        "outputId": "dd5def8d-98c1-4081-d82e-10d9a957a2b8"
      },
      "execution_count": 2,
      "outputs": [
        {
          "output_type": "error",
          "ename": "NameError",
          "evalue": "name 'plt' is not defined",
          "traceback": [
            "\u001b[0;31m---------------------------------------------------------------------------\u001b[0m",
            "\u001b[0;31mNameError\u001b[0m                                 Traceback (most recent call last)",
            "\u001b[0;32m<ipython-input-2-c2f776ae5e58>\u001b[0m in \u001b[0;36m<cell line: 1>\u001b[0;34m()\u001b[0m\n\u001b[0;32m----> 1\u001b[0;31m \u001b[0mplt\u001b[0m\u001b[0;34m.\u001b[0m\u001b[0mfigure\u001b[0m\u001b[0;34m(\u001b[0m\u001b[0mfigsize\u001b[0m\u001b[0;34m=\u001b[0m\u001b[0;34m(\u001b[0m\u001b[0;36m12\u001b[0m\u001b[0;34m,\u001b[0m \u001b[0;36m10\u001b[0m\u001b[0;34m)\u001b[0m\u001b[0;34m)\u001b[0m\u001b[0;34m\u001b[0m\u001b[0;34m\u001b[0m\u001b[0m\n\u001b[0m\u001b[1;32m      2\u001b[0m \u001b[0;34m\u001b[0m\u001b[0m\n\u001b[1;32m      3\u001b[0m \u001b[0;31m# Posiciones\u001b[0m\u001b[0;34m\u001b[0m\u001b[0;34m\u001b[0m\u001b[0m\n\u001b[1;32m      4\u001b[0m \u001b[0mplt\u001b[0m\u001b[0;34m.\u001b[0m\u001b[0msubplot\u001b[0m\u001b[0;34m(\u001b[0m\u001b[0;36m2\u001b[0m\u001b[0;34m,\u001b[0m \u001b[0;36m1\u001b[0m\u001b[0;34m,\u001b[0m \u001b[0;36m1\u001b[0m\u001b[0;34m)\u001b[0m\u001b[0;34m\u001b[0m\u001b[0;34m\u001b[0m\u001b[0m\n\u001b[1;32m      5\u001b[0m \u001b[0;32mfor\u001b[0m \u001b[0mi\u001b[0m \u001b[0;32min\u001b[0m \u001b[0mrange\u001b[0m\u001b[0;34m(\u001b[0m\u001b[0mn\u001b[0m\u001b[0;34m+\u001b[0m\u001b[0;36m1\u001b[0m\u001b[0;34m)\u001b[0m\u001b[0;34m:\u001b[0m\u001b[0;34m\u001b[0m\u001b[0;34m\u001b[0m\u001b[0m\n",
            "\u001b[0;31mNameError\u001b[0m: name 'plt' is not defined"
          ]
        }
      ]
    },
    {
      "cell_type": "code",
      "source": [
        "# Calcular velocidades máxima y mínima\n",
        "vel_max_min = [(i, np.max(v[i, :]), np.min(v[i, :])) for i in range(n+1)]\n",
        "\n",
        "# Tabla de velocidades\n",
        "print(\"Vehículo\\tVelocidad Máxima (m/s)\\tVelocidad Mínima (m/s)\")\n",
        "for vehicle, vmax, vmin in vel_max_min:\n",
        "    print(f\"{vehicle}\\t\\t{vmax:.2f}\\t\\t\\t{vmin:.2f}\")"
      ],
      "metadata": {
        "id": "eOBzkXtLz4u1",
        "colab": {
          "base_uri": "https://localhost:8080/",
          "height": 211
        },
        "outputId": "46a57e15-1fb0-4ded-ff55-fde56a1865a5"
      },
      "execution_count": 1,
      "outputs": [
        {
          "output_type": "error",
          "ename": "NameError",
          "evalue": "name 'n' is not defined",
          "traceback": [
            "\u001b[0;31m---------------------------------------------------------------------------\u001b[0m",
            "\u001b[0;31mNameError\u001b[0m                                 Traceback (most recent call last)",
            "\u001b[0;32m<ipython-input-1-06a184290171>\u001b[0m in \u001b[0;36m<cell line: 2>\u001b[0;34m()\u001b[0m\n\u001b[1;32m      1\u001b[0m \u001b[0;31m# Calcular velocidades máxima y mínima\u001b[0m\u001b[0;34m\u001b[0m\u001b[0;34m\u001b[0m\u001b[0m\n\u001b[0;32m----> 2\u001b[0;31m \u001b[0mvel_max_min\u001b[0m \u001b[0;34m=\u001b[0m \u001b[0;34m[\u001b[0m\u001b[0;34m(\u001b[0m\u001b[0mi\u001b[0m\u001b[0;34m,\u001b[0m \u001b[0mnp\u001b[0m\u001b[0;34m.\u001b[0m\u001b[0mmax\u001b[0m\u001b[0;34m(\u001b[0m\u001b[0mv\u001b[0m\u001b[0;34m[\u001b[0m\u001b[0mi\u001b[0m\u001b[0;34m,\u001b[0m \u001b[0;34m:\u001b[0m\u001b[0;34m]\u001b[0m\u001b[0;34m)\u001b[0m\u001b[0;34m,\u001b[0m \u001b[0mnp\u001b[0m\u001b[0;34m.\u001b[0m\u001b[0mmin\u001b[0m\u001b[0;34m(\u001b[0m\u001b[0mv\u001b[0m\u001b[0;34m[\u001b[0m\u001b[0mi\u001b[0m\u001b[0;34m,\u001b[0m \u001b[0;34m:\u001b[0m\u001b[0;34m]\u001b[0m\u001b[0;34m)\u001b[0m\u001b[0;34m)\u001b[0m \u001b[0;32mfor\u001b[0m \u001b[0mi\u001b[0m \u001b[0;32min\u001b[0m \u001b[0mrange\u001b[0m\u001b[0;34m(\u001b[0m\u001b[0mn\u001b[0m\u001b[0;34m+\u001b[0m\u001b[0;36m1\u001b[0m\u001b[0;34m)\u001b[0m\u001b[0;34m]\u001b[0m\u001b[0;34m\u001b[0m\u001b[0;34m\u001b[0m\u001b[0m\n\u001b[0m\u001b[1;32m      3\u001b[0m \u001b[0;34m\u001b[0m\u001b[0m\n\u001b[1;32m      4\u001b[0m \u001b[0;31m# Tabla de velocidades\u001b[0m\u001b[0;34m\u001b[0m\u001b[0;34m\u001b[0m\u001b[0m\n\u001b[1;32m      5\u001b[0m \u001b[0mprint\u001b[0m\u001b[0;34m(\u001b[0m\u001b[0;34m\"Vehículo\\tVelocidad Máxima (m/s)\\tVelocidad Mínima (m/s)\"\u001b[0m\u001b[0;34m)\u001b[0m\u001b[0;34m\u001b[0m\u001b[0;34m\u001b[0m\u001b[0m\n",
            "\u001b[0;31mNameError\u001b[0m: name 'n' is not defined"
          ]
        }
      ]
    }
  ]
}